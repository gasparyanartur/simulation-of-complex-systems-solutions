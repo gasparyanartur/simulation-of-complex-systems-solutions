{
 "cells": [
  {
   "cell_type": "markdown",
   "id": "a92a8892",
   "metadata": {},
   "source": [
    "# Simulation of Complex Systems - Chapter 12\n",
    "**Author**: Artur Gasparyan"
   ]
  },
  {
   "cell_type": "code",
   "execution_count": null,
   "id": "458aa8f9",
   "metadata": {},
   "outputs": [],
   "source": [
    "need_upgrade = False\n",
    "if need_upgrade:\n",
    "    !pip install --upgrade matplotlib\n",
    "    !pip install --upgrade networkx"
   ]
  },
  {
   "cell_type": "code",
   "execution_count": null,
   "id": "83888418",
   "metadata": {},
   "outputs": [],
   "source": [
    "import numpy as np\n",
    "import networkx as nx\n",
    "import matplotlib.pyplot as plt\n",
    "import math\n",
    "\n",
    "seed = 69420\n",
    "np.random.seed(seed)\n",
    "rng = np.random.default_rng(seed)"
   ]
  },
  {
   "cell_type": "markdown",
   "id": "8a19cf84",
   "metadata": {},
   "source": [
    "# Exercise 12.1"
   ]
  },
  {
   "cell_type": "code",
   "execution_count": null,
   "id": "0d2e192a",
   "metadata": {},
   "outputs": [],
   "source": [
    "def generate_er_edges(n_nodes, p_edge):\n",
    "    edges = np.zeros((n_nodes, n_nodes))\n",
    "    \n",
    "    for i in range(n_nodes):\n",
    "        for j in range(i+1, n_nodes):\n",
    "            if rng.random() < p_edge:\n",
    "                edges[[i, j], [j, i]] = 1\n",
    "                \n",
    "        \n",
    "    return edges"
   ]
  },
  {
   "cell_type": "code",
   "execution_count": null,
   "id": "09dd87bd",
   "metadata": {
    "scrolled": false
   },
   "outputs": [],
   "source": [
    "n_nodes_all = [500, 1000, 2000]\n",
    "p_edge_all = [0.05, 0.01, 0.005]\n",
    "n_tests = len(n_nodes_all)\n",
    "\n",
    "\n",
    "for i in range(n_tests):\n",
    "    n_nodes = n_nodes_all[i]\n",
    "    p_edge = p_edge_all[i]\n",
    "    \n",
    "    fig, (ax1, ax2) = plt.subplots(1, 2, figsize=(9, 4))\n",
    "    fig.suptitle(f\"Number of edges: {n_nodes}, Edge probability: {p_edge}\")\n",
    "    ax2.set_xlabel(r\"degree ($k$)\")\n",
    "    ax2.set_ylabel(r\"$p(k)$\")\n",
    "\n",
    "    edges = generate_er_edges(n_nodes, p_edge)\n",
    "    er_graph = nx.Graph(edges)\n",
    "    nb_counts = np.sum(edges, axis=0)\n",
    "    \n",
    "    counts, bins = np.histogram(nb_counts, density=True)\n",
    "    n_bins = len(bins)\n",
    "    last_bin = math.ceil(max(bins))\n",
    "    \n",
    "    nb_count_theory = np.zeros(last_bin)\n",
    "    for k in range(last_bin):\n",
    "        nb_count_theory[k] = math.comb(n_nodes-1, k) * (p_edge**k) * ((1-p_edge)**(n_nodes-1-k))\n",
    "        \n",
    "    gaussian = np.zeros(last_bin)\n",
    "    count_std = np.std(nb_counts)\n",
    "    count_mean = np.mean(nb_counts)\n",
    "    for k in range(last_bin):\n",
    "        gaussian[k] = math.exp(-0.5*((k-count_mean)/count_std)**2)/(count_std*math.sqrt(2*math.pi))\n",
    "        \n",
    "    nx.draw_circular(er_graph, ax=ax1, node_size=50, width=0.02)\n",
    "    ax2.stairs(counts, bins)\n",
    "    ax2.plot(np.arange(last_bin), nb_count_theory)\n",
    "    ax2.plot(np.arange(last_bin), gaussian)\n",
    "    \n",
    "    ax2.legend([\"Degree\", \"Theoretical\", \"Gaussian\"])\n"
   ]
  },
  {
   "cell_type": "markdown",
   "id": "2efc8eec",
   "metadata": {},
   "source": [
    "# Exercise 12.2"
   ]
  },
  {
   "cell_type": "code",
   "execution_count": null,
   "id": "1cd27788",
   "metadata": {},
   "outputs": [],
   "source": [
    "def generate_ws_edges(n_nodes, n_nb, p_rewire):\n",
    "    assert n_nb % 2 == 0\n",
    "    \n",
    "    edges = np.zeros((n_nodes, n_nodes))\n",
    "\n",
    "    half_range = n_nb // 2\n",
    "    \n",
    "    for i in range(n_nodes):\n",
    "        for j in range(-half_range, half_range+1):\n",
    "            if j == 0:\n",
    "                continue\n",
    "            \n",
    "            k = (i+j) % n_nodes\n",
    "                \n",
    "                \n",
    "            edges[k, i] = 1\n",
    "            edges[i, k] = 1\n",
    "            \n",
    "    for i in range(n_nodes):\n",
    "        for j in range(i+1, n_nodes):\n",
    "            if edges[i, j] == 0:\n",
    "                continue\n",
    "                \n",
    "            if rng.random() < p_rewire:                \n",
    "                edges[i, j] = 0\n",
    "                edges[j, i] = 0\n",
    "                \n",
    "                alternatives = np.nonzero(edges[i, :]==0)[0]\n",
    "                alternatives = alternatives[alternatives != i]\n",
    "                r = rng.choice(alternatives)\n",
    "                \n",
    "                edges[r, i] = 1\n",
    "                edges[i, r] = 1\n",
    "        \n",
    "    return edges"
   ]
  },
  {
   "cell_type": "code",
   "execution_count": null,
   "id": "406df1d9",
   "metadata": {},
   "outputs": [],
   "source": [
    "n_nodes = 20\n",
    "n_nbs_all = [2, 4, 8]\n",
    "p_rewire = 0.2\n",
    "\n",
    "for n_nbs in n_nbs_all:\n",
    "    fig, (ax1, ax2) = plt.subplots(1, 2, figsize=(8, 4.5))\n",
    "    fig.suptitle(f\"Number of nodes: {n_nodes}, Number of neighbours: {n_nbs}\")\n",
    "    fig.tight_layout(pad=2)\n",
    "    ax1.set_title(f\"Rewire probability: {0}\")\n",
    "    ax2.set_title(f\"Rewire probability: {p_rewire}\")\n",
    "\n",
    "    ws_edges_norewire = generate_ws_edges(n_nodes, n_nbs, 0)\n",
    "    ws_edges_rewire = generate_ws_edges(n_nodes, n_nbs, p_rewire)\n",
    "    \n",
    "    assert(ws_edges_norewire.sum() == ws_edges_rewire.sum())\n",
    "    \n",
    "    ws_graph_norewire = nx.Graph(ws_edges_norewire)\n",
    "    ws_graph_rewire = nx.Graph(ws_edges_rewire) \n",
    "    \n",
    "    nx.draw_circular(ws_graph_norewire, with_labels=True, ax=ax1)\n",
    "    nx.draw_circular(ws_graph_rewire, with_labels=True, ax=ax2)\n"
   ]
  },
  {
   "cell_type": "markdown",
   "id": "98fd9c40",
   "metadata": {},
   "source": [
    "## Exercise 12.3"
   ]
  },
  {
   "cell_type": "code",
   "execution_count": null,
   "id": "ecef5efc",
   "metadata": {},
   "outputs": [],
   "source": [
    "def generate_ab_edges(n_nodes, n_connections, n_nodes_start):\n",
    "    assert n_nodes >= n_nodes_start > n_connections\n",
    "    \n",
    "    edges = np.zeros((n_nodes, n_nodes))\n",
    "    edges[:n_nodes_start, :n_nodes_start] = 1\n",
    "    edges[np.identity(n_nodes).astype(bool)]=0\n",
    "    \n",
    "    for n in range(n_nodes_start, n_nodes):\n",
    "        degrees = np.sum(edges[:n, :n], axis=1)\n",
    "        p_choice = degrees/np.sum(degrees)\n",
    "        i_connections = rng.choice(n, size=n_connections, p=p_choice, replace=False)\n",
    "        edges[n, i_connections] = 1\n",
    "        edges[i_connections, n] = 1\n",
    "        \n",
    "    return edges"
   ]
  },
  {
   "cell_type": "code",
   "execution_count": null,
   "id": "08b1df70",
   "metadata": {},
   "outputs": [],
   "source": [
    "n_nodes_all = [100, 200, 400]\n",
    "n_connections_all = [3, 5, 10]\n",
    "n_nodes_start_all = [5, 7, 12]\n",
    "n_tests = len(n_nodes_all)\n",
    "\n",
    "\n",
    "for i in range(n_tests):\n",
    "    n_nodes = n_nodes_all[i]\n",
    "    n_connections = n_connections_all[i]\n",
    "    n_nodes_start = n_nodes_start_all[i]\n",
    "    \n",
    "    fig, (ax1) = plt.subplots(1, 1, figsize=(4, 4))\n",
    "    fig.suptitle(f\"Number of edges: {n_nodes}, Number of connections: {n_connections}, Starting number: {n_nodes_start}\")\n",
    "\n",
    "    edges = generate_ab_edges(n_nodes, n_connections, n_nodes_start)\n",
    "    ab_graph = nx.Graph(edges)\n",
    "\n",
    "    nx.draw_circular(ab_graph, node_size=50, width=0.15)"
   ]
  },
  {
   "cell_type": "code",
   "execution_count": null,
   "id": "34ce361c",
   "metadata": {},
   "outputs": [],
   "source": [
    "n_nodes = 1000\n",
    "n_conn = 3\n",
    "n_start = 5\n",
    "\n",
    "edges = generate_ab_edges(n_nodes, n_conn, n_start)\n",
    "degrees = np.sort(np.sum(edges, axis=1))[::-1]\n",
    "lin_arr = np.arange(1, n_edges+1)/n_edges\n",
    "deg_theory = n_conn**2 * degrees**-2\n",
    "\n",
    "fig = plt.figure()\n",
    "fig.suptitle(f\"Comparison of the degree distribution between \"\n",
    "             f\"theoretical \\nand empirical model (n={n_nodes}, k={n_conn}, n0={n_start})\")\n",
    "ax = fig.gca()\n",
    "ax.set_xlabel(r\"$k$\")\n",
    "ax.set_ylabel(r\"$c(k)$\")\n",
    "ax.set_xscale(\"log\")\n",
    "ax.set_yscale(\"log\")\n",
    "plt.scatter(degrees, lin_arr)\n",
    "plt.scatter(degrees, deg_theory)\n",
    "\n",
    "...;"
   ]
  },
  {
   "cell_type": "markdown",
   "id": "5cba7264",
   "metadata": {},
   "source": [
    "## Exercise 12.4"
   ]
  },
  {
   "cell_type": "code",
   "execution_count": null,
   "id": "17fce10b",
   "metadata": {},
   "outputs": [],
   "source": [
    "def compute_lengths(edges):\n",
    "    n_nodes = edges.shape[0]\n",
    "    lengths = -np.ones((n_nodes, n_nodes))\n",
    "    lengths[np.identity(n_nodes)==1] = 0\n",
    "    \n",
    "    t = 1\n",
    "    a_t = edges\n",
    "    \n",
    "    while -1 in lengths:\n",
    "        # Since the graph is acyclic, every node will be visited once at most.\n",
    "        # Therefore, maximum number of iterations is n. \n",
    "        # If the iterations exceed that, we are in a loop.\n",
    "        if t > n_nodes:\n",
    "            break\n",
    "            \n",
    "        lengths[(a_t != 0) & (lengths == -1)] = t\n",
    "        \n",
    "        t += 1\n",
    "        a_t = a_t @ edges\n",
    "    \n",
    "    return lengths\n",
    "\n",
    "\n",
    "def compute_average_lengths(lengths):\n",
    "    return np.mean(lengths[lengths>0])\n",
    "\n",
    "\n",
    "# TODO: Clustering coeffecient\n",
    "        \n",
    "    \n",
    "edges = generate_er_edges(10, 0.25)\n",
    "lengths = compute_lengths(edges)\n",
    "avg_lengths = compute_average_lengths(lengths)\n",
    "print(lengths)\n",
    "print(avg_lengths)"
   ]
  }
 ],
 "metadata": {
  "kernelspec": {
   "display_name": "Python 3 (ipykernel)",
   "language": "python",
   "name": "python3"
  },
  "language_info": {
   "codemirror_mode": {
    "name": "ipython",
    "version": 3
   },
   "file_extension": ".py",
   "mimetype": "text/x-python",
   "name": "python",
   "nbconvert_exporter": "python",
   "pygments_lexer": "ipython3",
   "version": "3.9.12"
  }
 },
 "nbformat": 4,
 "nbformat_minor": 5
}
