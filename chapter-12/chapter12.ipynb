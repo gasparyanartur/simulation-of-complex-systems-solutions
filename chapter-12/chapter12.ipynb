{
 "cells": [
  {
   "cell_type": "markdown",
   "id": "e58c58d7",
   "metadata": {},
   "source": [
    "# Simulation of Complex Systems - Chapter 12\n",
    "**Author**: Artur Gasparyan"
   ]
  },
  {
   "cell_type": "code",
   "execution_count": null,
   "id": "5779f5de",
   "metadata": {},
   "outputs": [],
   "source": [
    "need_upgrade = False\n",
    "if need_upgrade:\n",
    "    !pip install --upgrade matplotlib\n",
    "    !pip install --upgrade networkx"
   ]
  },
  {
   "cell_type": "code",
   "execution_count": null,
   "id": "810116e8",
   "metadata": {},
   "outputs": [],
   "source": [
    "import numpy as np\n",
    "import networkx as nx\n",
    "import matplotlib.pyplot as plt\n",
    "\n",
    "seed = 69420\n",
    "rng = np.random.default_rng(seed)"
   ]
  },
  {
   "cell_type": "markdown",
   "id": "50e83b70",
   "metadata": {},
   "source": [
    "# Exercise 12.1"
   ]
  },
  {
   "cell_type": "code",
   "execution_count": null,
   "id": "5b67a60a",
   "metadata": {},
   "outputs": [],
   "source": [
    "def generate_er_graph(n_nodes, p_edge):\n",
    "    er_graph = nx.DiGraph()\n",
    "    er_graph.add_nodes_from(range(n_nodes))\n",
    "\n",
    "    edges = []\n",
    "    for i in range(n_nodes):\n",
    "        for j in range(n_nodes):\n",
    "            if rng.random() < p_edge:\n",
    "                edges.append((i, j))\n",
    "                #er_graph.add_edge(i, j)\n",
    "                #er_graph.add_edge(j, i)\n",
    "                \n",
    "    er_graph.add_edges_from(edges)\n",
    "    print(\"Generated graph with\", n_nodes, p_edge)\n",
    "        \n",
    "    return er_graph"
   ]
  },
  {
   "cell_type": "code",
   "execution_count": null,
   "id": "6af00fe0",
   "metadata": {},
   "outputs": [],
   "source": [
    "n_nodes = 10\n",
    "p_edge = 0.2\n",
    "\n",
    "    \n",
    "n_nodes_all = [20, 40, 80]\n",
    "p_edges_all = [0.05, 0.04, 0.03]\n",
    "er_graphs = [generate_er_graph(n_nodes, p_edge) for (n_nodes, p_edge) in zip(n_nodes_all, p_edges_all)]\n",
    "n_tests = len(n_nodes_all)\n",
    "fig, axes = plt.subplots(n_tests, 2, figsize=(12,12))\n",
    "\n",
    "\n",
    "for i in range(n_tests):\n",
    "    ax = axes[i, 0]\n",
    "    nx.draw_circular(er_graphs[i], with_labels=False, ax=ax)\n"
   ]
  },
  {
   "cell_type": "code",
   "execution_count": null,
   "id": "fac3d0b2",
   "metadata": {},
   "outputs": [],
   "source": []
  }
 ],
 "metadata": {
  "kernelspec": {
   "display_name": "Python 3 (ipykernel)",
   "language": "python",
   "name": "python3"
  },
  "language_info": {
   "codemirror_mode": {
    "name": "ipython",
    "version": 3
   },
   "file_extension": ".py",
   "mimetype": "text/x-python",
   "name": "python",
   "nbconvert_exporter": "python",
   "pygments_lexer": "ipython3",
   "version": "3.9.13"
  }
 },
 "nbformat": 4,
 "nbformat_minor": 5
}
