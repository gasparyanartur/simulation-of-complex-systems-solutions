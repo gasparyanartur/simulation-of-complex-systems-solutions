{
 "cells": [
  {
   "cell_type": "markdown",
   "id": "a92a8892",
   "metadata": {},
   "source": [
    "# Simulation of Complex Systems - Chapter 12\n",
    "**Author**: Artur Gasparyan"
   ]
  },
  {
   "cell_type": "code",
   "execution_count": null,
   "id": "458aa8f9",
   "metadata": {},
   "outputs": [],
   "source": [
    "need_upgrade = False\n",
    "if need_upgrade:\n",
    "    !pip install --upgrade matplotlib\n",
    "    !pip install --upgrade networkx"
   ]
  },
  {
   "cell_type": "code",
   "execution_count": null,
   "id": "83888418",
   "metadata": {},
   "outputs": [],
   "source": [
    "import numpy as np\n",
    "import networkx as nx\n",
    "import matplotlib.pyplot as plt\n",
    "import math\n",
    "\n",
    "seed = 69420\n",
    "np.random.seed(seed)\n",
    "rng = np.random.default_rng(seed)"
   ]
  },
  {
   "cell_type": "markdown",
   "id": "8a19cf84",
   "metadata": {},
   "source": [
    "# Exercise 12.1"
   ]
  },
  {
   "cell_type": "code",
   "execution_count": null,
   "id": "0d2e192a",
   "metadata": {},
   "outputs": [],
   "source": [
    "def generate_er_edges(n_nodes, p_edge):\n",
    "    edges = np.zeros((n_nodes, n_nodes))\n",
    "    \n",
    "    for i in range(n_nodes):\n",
    "        for j in range(i+1, n_nodes):\n",
    "            if rng.random() < p_edge:\n",
    "                edges[[i, j], [j, i]] = 1\n",
    "                \n",
    "        \n",
    "    return edges"
   ]
  },
  {
   "cell_type": "code",
   "execution_count": null,
   "id": "09dd87bd",
   "metadata": {
    "scrolled": false
   },
   "outputs": [],
   "source": [
    "n_nodes_all = [500, 1000, 2000]\n",
    "p_edge_all = [0.05, 0.01, 0.005]\n",
    "n_tests = len(n_nodes_all)\n",
    "\n",
    "\n",
    "for i in range(n_tests):\n",
    "    n_nodes = n_nodes_all[i]\n",
    "    p_edge = p_edge_all[i]\n",
    "    \n",
    "    fig, (ax1, ax2) = plt.subplots(1, 2, figsize=(9, 4))\n",
    "    fig.suptitle(f\"Number of edges: {n_nodes}, Edge probability: {p_edge}\")\n",
    "    ax2.set_xlabel(r\"degree ($k$)\")\n",
    "    ax2.set_ylabel(r\"$p(k)$\")\n",
    "\n",
    "    edges = generate_er_edges(n_nodes, p_edge)\n",
    "    er_graph = nx.Graph(edges)\n",
    "    nb_counts = np.sum(edges, axis=0)\n",
    "    \n",
    "    counts, bins = np.histogram(nb_counts, density=True)\n",
    "    n_bins = len(bins)\n",
    "    last_bin = math.ceil(max(bins))\n",
    "    \n",
    "    nb_count_theory = np.zeros(last_bin)\n",
    "    for k in range(last_bin):\n",
    "        nb_count_theory[k] = math.comb(n_nodes-1, k) * (p_edge**k) * ((1-p_edge)**(n_nodes-1-k))\n",
    "        \n",
    "    gaussian = np.zeros(last_bin)\n",
    "    count_std = np.std(nb_counts)\n",
    "    count_mean = np.mean(nb_counts)\n",
    "    for k in range(last_bin):\n",
    "        gaussian[k] = math.exp(-0.5*((k-count_mean)/count_std)**2)/(count_std*math.sqrt(2*math.pi))\n",
    "        \n",
    "    nx.draw_circular(er_graph, ax=ax1, node_size=50, width=0.02)\n",
    "    ax2.stairs(counts, bins)\n",
    "    ax2.plot(np.arange(last_bin), nb_count_theory)\n",
    "    ax2.plot(np.arange(last_bin), gaussian)\n",
    "    \n",
    "    ax2.legend([\"Degree\", \"Theoretical\", \"Gaussian\"])\n"
   ]
  },
  {
   "cell_type": "markdown",
   "id": "2efc8eec",
   "metadata": {},
   "source": [
    "# Exercise 12.2"
   ]
  },
  {
   "cell_type": "code",
   "execution_count": null,
   "id": "1cd27788",
   "metadata": {},
   "outputs": [],
   "source": [
    "def generate_ws_edges(n_nodes, n_nb, p_rewire):\n",
    "    assert n_nb % 2 == 0\n",
    "    \n",
    "    edges = np.zeros((n_nodes, n_nodes))\n",
    "\n",
    "    half_range = n_nb // 2\n",
    "    \n",
    "    for i in range(n_nodes):\n",
    "        for j in range(-half_range, half_range+1):\n",
    "            if j == 0:\n",
    "                continue\n",
    "            \n",
    "            if rng.random() < p_rewire:\n",
    "                offset = rng.integers(1, n_nodes)\n",
    "            else:\n",
    "                offset = j\n",
    "                \n",
    "            k = (i+offset) % n_nodes\n",
    "                \n",
    "                \n",
    "            edges[k, i] = 1\n",
    "            edges[i, k] = 1\n",
    "\n",
    "                \n",
    "    # TODO: Rewiring\n",
    "        \n",
    "    return edges"
   ]
  },
  {
   "cell_type": "code",
   "execution_count": null,
   "id": "406df1d9",
   "metadata": {},
   "outputs": [],
   "source": [
    "ws_edges = generate_ws_edges(12, 4, 0.2)\n",
    "ws_graph = nx.Graph(ws_edges)\n",
    "fig = plt.figure()\n",
    "nx.draw_circular(ws_graph, with_labels=True)\n",
    "\n",
    "print(ws_edges)\n",
    "print(ws_edges==ws_edges.T)\n",
    "print(ws_edges.sum())"
   ]
  },
  {
   "cell_type": "code",
   "execution_count": null,
   "id": "57fd29af",
   "metadata": {},
   "outputs": [],
   "source": []
  }
 ],
 "metadata": {
  "kernelspec": {
   "display_name": "Python 3 (ipykernel)",
   "language": "python",
   "name": "python3"
  },
  "language_info": {
   "codemirror_mode": {
    "name": "ipython",
    "version": 3
   },
   "file_extension": ".py",
   "mimetype": "text/x-python",
   "name": "python",
   "nbconvert_exporter": "python",
   "pygments_lexer": "ipython3",
   "version": "3.9.13"
  }
 },
 "nbformat": 4,
 "nbformat_minor": 5
}
