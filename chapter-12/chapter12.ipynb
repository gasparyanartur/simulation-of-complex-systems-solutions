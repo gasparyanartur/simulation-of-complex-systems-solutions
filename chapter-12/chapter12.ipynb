{
 "cells": [
  {
   "cell_type": "markdown",
   "id": "87d4da4d",
   "metadata": {},
   "source": [
    "# Simulation of Complex Systems - Chapter 12\n",
    "**Author**: Artur Gasparyan"
   ]
  },
  {
   "cell_type": "code",
   "execution_count": null,
   "id": "fa96e61d",
   "metadata": {},
   "outputs": [],
   "source": [
    "import numpy as numpy\n",
    "import matplotlib.pyplot as plt"
   ]
  },
  {
   "cell_type": "markdown",
   "id": "820e9ab5",
   "metadata": {},
   "source": [
    "# Exercise 12.1"
   ]
  },
  {
   "cell_type": "code",
   "execution_count": null,
   "id": "766f01a1",
   "metadata": {},
   "outputs": [],
   "source": []
  }
 ],
 "metadata": {
  "kernelspec": {
   "display_name": "Python 3 (ipykernel)",
   "language": "python",
   "name": "python3"
  },
  "language_info": {
   "codemirror_mode": {
    "name": "ipython",
    "version": 3
   },
   "file_extension": ".py",
   "mimetype": "text/x-python",
   "name": "python",
   "nbconvert_exporter": "python",
   "pygments_lexer": "ipython3",
   "version": "3.9.13"
  }
 },
 "nbformat": 4,
 "nbformat_minor": 5
}
