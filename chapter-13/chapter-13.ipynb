{
 "cells": [
  {
   "cell_type": "markdown",
   "id": "646cb240",
   "metadata": {},
   "source": [
    "# Simulation of Complex Systems - Chapter 13\n",
    "**Author**: Artur Gasparyan"
   ]
  },
  {
   "cell_type": "code",
   "execution_count": 2,
   "id": "38770091",
   "metadata": {},
   "outputs": [],
   "source": [
    "import numpy as np\n",
    "import matplotlib.pyplot as plt\n",
    "\n",
    "seed = 69420\n",
    "rng = np.random.default_rng(seed)"
   ]
  },
  {
   "cell_type": "markdown",
   "id": "6026fcfc",
   "metadata": {},
   "source": [
    "## Exercise 13.1"
   ]
  },
  {
   "cell_type": "code",
   "execution_count": 83,
   "id": "fed760a1",
   "metadata": {},
   "outputs": [],
   "source": [
    "# Betray = 0\n",
    "# Cooperate = 1\n",
    "\n",
    "# 0,0 -> P,P\n",
    "# 0,1 -> T,S\n",
    "# 1,0 -> S,T\n",
    "# 1,1 -> R,R\n",
    "\n",
    "T = 0\n",
    "R = 0.5\n",
    "P = 1\n",
    "S = 1.5\n",
    "\n",
    "outcomes = np.array([\n",
    "    [[P, P], [T, S]],\n",
    "    [[S, T], [R, R]]\n",
    "])"
   ]
  },
  {
   "cell_type": "code",
   "execution_count": 84,
   "id": "14fd0497",
   "metadata": {},
   "outputs": [],
   "source": [
    "N = 10"
   ]
  },
  {
   "cell_type": "code",
   "execution_count": 85,
   "id": "5a67698b",
   "metadata": {},
   "outputs": [],
   "source": [
    "years_all = np.zeros((N, N, N, 2))\n",
    "\n",
    "for n in range(N):\n",
    "    for m in range(N):\n",
    "        d1 = np.ones(N, dtype=int)\n",
    "        d2 = np.ones(N, dtype=int)\n",
    "        if n < m:\n",
    "            d1[n:] = 0\n",
    "            d2[n+1:] = 0\n",
    "        elif n > m:\n",
    "            d1[m+1:] = 0\n",
    "            d2[m:] = 0\n",
    "        else:\n",
    "            d1[m:]= 0\n",
    "            d2[m:]= 0\n",
    "        \n",
    "        outcome = outcomes[d1, d2]\n",
    "        years_all[n, m, :, :] = outcome"
   ]
  },
  {
   "cell_type": "code",
   "execution_count": 86,
   "id": "c8e46e4f",
   "metadata": {},
   "outputs": [],
   "source": [
    "years = years_all[:, 6, :, 0]\n",
    "acc_years = np.sum(years, axis=1)"
   ]
  },
  {
   "cell_type": "code",
   "execution_count": 87,
   "id": "7945a6a8",
   "metadata": {},
   "outputs": [
    {
     "data": {
      "text/plain": [
       "<matplotlib.legend.Legend at 0x218a1af36d0>"
      ]
     },
     "execution_count": 87,
     "metadata": {},
     "output_type": "execute_result"
    },
    {
     "data": {
      "image/png": "[encoded data removed]",
      "text/plain": [
       "<Figure size 432x288 with 1 Axes>"
      ]
     },
     "metadata": {
      "needs_background": "light"
     },
     "output_type": "display_data"
    }
   ],
   "source": [
    "fig = plt.figure()\n",
    "ax = fig.gca()\n",
    "ax.scatter(np.arange(N), acc_years)\n",
    "ax.axvline(6, c='red')\n",
    "ax.set_ylim(5, 11)\n",
    "ax.legend([\"prison years\", \"m\"])"
   ]
  },
  {
   "cell_type": "code",
   "execution_count": 102,
   "id": "34dfb760",
   "metadata": {},
   "outputs": [
    {
     "data": {
      "text/plain": [
       "[<matplotlib.lines.Line2D at 0x218a5fe2c70>]"
      ]
     },
     "execution_count": 102,
     "metadata": {},
     "output_type": "execute_result"
    },
    {
     "data": {
      "image/png": "[encoded data removed]",
      "text/plain": [
       "<Figure size 432x288 with 1 Axes>"
      ]
     },
     "metadata": {
      "needs_background": "light"
     },
     "output_type": "display_data"
    }
   ],
   "source": [
    "years = years_all[:, :, :, 0]\n",
    "acc_years = np.sum(years, axis=2)\n",
    "fig = plt.figure()\n",
    "ax = fig.gca()\n",
    "ax.imshow(acc_years, origin='lower')\n",
    "ax.set_xlabel('m')\n",
    "ax.set_ylabel('n')\n",
    "ax.plot(np.arange(1, N+1)-1, np.arange(N), linestyle='--', c='white')\n"
   ]
  },
  {
   "cell_type": "code",
   "execution_count": null,
   "id": "89a0448c",
   "metadata": {},
   "outputs": [],
   "source": []
  }
 ],
 "metadata": {
  "kernelspec": {
   "display_name": "Python 3 (ipykernel)",
   "language": "python",
   "name": "python3"
  },
  "language_info": {
   "codemirror_mode": {
    "name": "ipython",
    "version": 3
   },
   "file_extension": ".py",
   "mimetype": "text/x-python",
   "name": "python",
   "nbconvert_exporter": "python",
   "pygments_lexer": "ipython3",
   "version": "3.9.12"
  }
 },
 "nbformat": 4,
 "nbformat_minor": 5
}
