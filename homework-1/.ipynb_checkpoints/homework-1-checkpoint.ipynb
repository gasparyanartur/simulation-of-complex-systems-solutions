{
 "cells": [
  {
   "cell_type": "markdown",
   "id": "7680f418",
   "metadata": {},
   "source": [
    "# Homework 1\n",
    "\n",
    "**Course**: FFR120 - Simulation of Complex Systems\n",
    "\n",
    "**Author**: Artur Gasparyan\n",
    "\n",
    "**Assignment**: Homework 1 - Option 4"
   ]
  },
  {
   "cell_type": "code",
   "execution_count": null,
   "id": "fe454a98",
   "metadata": {},
   "outputs": [],
   "source": [
    "%matplotlib notebook\n",
    "\n",
    "import numpy as np\n",
    "import matplotlib.pyplot as plt\n",
    "import matplotlib.animation as anim"
   ]
  },
  {
   "cell_type": "code",
   "execution_count": null,
   "id": "97e7b52a",
   "metadata": {},
   "outputs": [],
   "source": [
    "rng = np.random.default_rng()\n",
    "save_file = False\n",
    "framerate_fast = 10\n",
    "framerate_medium = 5\n",
    "framerate_slow = 2\n",
    "gif_writer_fast = anim.PillowWriter(fps=framerate_fast)\n",
    "gif_writer_medium = anim.PillowWriter(fps=framerate_medium)\n",
    "gif_writer_slow = anim.PillowWriter(fps=framerate_slow)"
   ]
  },
  {
   "cell_type": "markdown",
   "id": "35b3339c",
   "metadata": {},
   "source": [
    "## Exercise 4.1 "
   ]
  },
  {
   "cell_type": "code",
   "execution_count": null,
   "id": "7c88444a",
   "metadata": {},
   "outputs": [],
   "source": [
    "import math\n",
    "\n",
    "def decimal_to_binary_array(dec, width):\n",
    "    if width is None:\n",
    "        if dec == 0:\n",
    "            width = 1\n",
    "        else:\n",
    "            width = 1 + math.floor(math.log2(dec))\n",
    "    \n",
    "    array = np.zeros(shape=(width,), dtype='uint8')\n",
    "    \n",
    "    for i in range(width-1, -1, -1):\n",
    "        dec, array[i] = divmod(dec, 2)\n",
    "\n",
    "    return array\n"
   ]
  },
  {
   "cell_type": "code",
   "execution_count": null,
   "id": "a040f803",
   "metadata": {},
   "outputs": [],
   "source": [
    "def create_parent_generation(n_cells, rule_nr, rng):\n",
    "    if rule_nr in (90, 30):\n",
    "        parent_generation = np.zeros((n_cells,))\n",
    "        parent_generation[n_cells//2] = 1\n",
    "        \n",
    "    else:\n",
    "        parent_generation = rng.integers(0, 2, size=(n_cells,))\n",
    "        \n",
    "    return parent_generation\n",
    "\n",
    "\n",
    "def create_grid_1d(rule_nr, n_cells, n_generations, rng):\n",
    "    grid = np.zeros(shape=(n_generations, n_cells), dtype='uint8')\n",
    "    grid[0, :] = create_parent_generation(n_cells, rule_nr, rng) \n",
    "    return grid\n",
    "\n",
    "\n",
    "def decode_1d_rule(rule_number):\n",
    "    binary_numbers = [\n",
    "        (1, 1, 1), (1, 1, 0), (1, 0, 1), (1, 0, 0),\n",
    "        (0, 1, 1), (0, 1, 0), (0, 0, 1), (0, 0, 0)\n",
    "    ]\n",
    "\n",
    "    rule = dict()\n",
    "    num = rule_number\n",
    "    for i in range(8):\n",
    "        num, rem = divmod(num, 2)\n",
    "        rule[binary_numbers[-i-1]] = rem\n",
    "\n",
    "    return rule\n",
    "\n",
    "\n",
    "def update_grid_1d(grid, n_cells, rules, rng):\n",
    "    grid = np.roll(grid, 1, 0)\n",
    "    for i in range(1, n_cells-1):\n",
    "        pattern = grid[1, i-1:i+2]\n",
    "        grid[0, i] = rules[tuple(pattern)]\n",
    "\n",
    "    left_pattern = np.zeros(shape=(3,))\n",
    "    left_pattern[0] = grid[1, -1]\n",
    "    left_pattern[1:] = grid[1, :2]\n",
    "\n",
    "    right_pattern = np.zeros(shape=(3,))\n",
    "    right_pattern[-1] = grid[1, 0]\n",
    "    right_pattern[:2] = grid[1, -2:]\n",
    "\n",
    "    grid[0, 0] = rules[tuple(left_pattern)]\n",
    "    grid[0, -1] = rules[tuple(right_pattern)]\n",
    "\n",
    "    return grid\n"
   ]
  },
  {
   "cell_type": "code",
   "execution_count": null,
   "id": "79a29008",
   "metadata": {},
   "outputs": [],
   "source": [
    "def run_simulation_1d(n_cells, n_generations, rule_nr, rng):\n",
    "    rules = decode_1d_rule(rule_number=rule_nr)\n",
    "    grid = create_grid_1d(rule_nr, n_cells, n_generations, rng)\n",
    "    history = []\n",
    "\n",
    "    for gen in range(n_generations):\n",
    "        grid = update_grid_1d(grid, n_cells, rules, rng)\n",
    "        history.append(grid)\n",
    "\n",
    "    return history\n"
   ]
  },
  {
   "cell_type": "code",
   "execution_count": null,
   "id": "f826d7ba",
   "metadata": {},
   "outputs": [],
   "source": [
    "def render_grid(time, history, img):\n",
    "    img.set_array(history[time])\n",
    "    return img,\n",
    "\n",
    "\n",
    "def create_animation(history, framerate):\n",
    "    fig = plt.figure()\n",
    "    img = plt.imshow(history[0], interpolation='none', animated=True)\n",
    "    animation = anim.FuncAnimation(fig=fig, func=render_grid, frames=len(history), interval=1000/framerate, fargs=(history,img), blit=True, repeat=False)    \n",
    "    return animation\n",
    "\n",
    "\n",
    "def animate_simulation(name, history, framerate, writer, save_file):\n",
    "    animation = create_animation(history, framerate)\n",
    "    if save_file:\n",
    "        animation.save(f\"./gifs/{name}.gif\", writer=writer)\n",
    "        \n",
    "    return animation\n",
    "    "
   ]
  },
  {
   "cell_type": "code",
   "execution_count": null,
   "id": "62583cab",
   "metadata": {},
   "outputs": [],
   "source": [
    "n_cells = 80\n",
    "n_generations = 80"
   ]
  },
  {
   "cell_type": "code",
   "execution_count": null,
   "id": "cca9a0b8",
   "metadata": {},
   "outputs": [],
   "source": [
    "history_184 = run_simulation_1d(n_cells, n_generations, 184, rng)\n",
    "animation_184 = animate_simulation(\"evolution-184\", history_184, framerate_fast, gif_writer_fast, save_file)"
   ]
  },
  {
   "cell_type": "code",
   "execution_count": null,
   "id": "37573eed",
   "metadata": {},
   "outputs": [],
   "source": [
    "history_90 = run_simulation_1d(n_cells, n_generations, 90, rng)\n",
    "animation_90 = animate_simulation(\"evolution-90\", history_90, framerate_fast, gif_writer_fast, save_file)"
   ]
  },
  {
   "cell_type": "code",
   "execution_count": null,
   "id": "676d70e1",
   "metadata": {
    "scrolled": true
   },
   "outputs": [],
   "source": [
    "history_30 = run_simulation_1d(n_cells, n_generations, 30, rng)\n",
    "animation_30 = animate_simulation(\"evolution-30\", history_30, framerate_fast, gif_writer_fast, save_file)"
   ]
  },
  {
   "cell_type": "code",
   "execution_count": null,
   "id": "d0f2e3ea",
   "metadata": {
    "scrolled": true
   },
   "outputs": [],
   "source": [
    "history_110 = run_simulation_1d(n_cells, n_generations, 110, rng)\n",
    "animation_110 = animate_simulation(\"evolution-110\", history_110, framerate_fast, gif_writer_fast, save_file)"
   ]
  },
  {
   "cell_type": "code",
   "execution_count": null,
   "id": "a940b9cc",
   "metadata": {},
   "outputs": [],
   "source": [
    "fig, axes = plt.subplots(2, 2)\n",
    "histories = [history_184, history_90, history_30, history_110]\n",
    "plt_names = [\"Rule 184\", \"Rule 90\", \"Rule 30\", \"Rule 110\"]\n",
    "fig.tight_layout(pad=2)\n",
    "\n",
    "for hist, ax, name in zip(histories, axes.flatten(), plt_names):\n",
    "    ax.imshow(hist[-1])\n",
    "    ax.set_title(name)\n",
    "    "
   ]
  },
  {
   "cell_type": "markdown",
   "id": "622cf39a",
   "metadata": {},
   "source": [
    "## Exercise 4.2"
   ]
  },
  {
   "cell_type": "code",
   "execution_count": null,
   "id": "a64e4468",
   "metadata": {},
   "outputs": [],
   "source": [
    "def create_grid(grid_size, rng):\n",
    "    return rng.integers(0, 2, size=grid_size)\n",
    "    \n",
    "\n",
    "def enough_nbs_to_live(value, n_nbs):\n",
    "    return n_nbs == 3 or (n_nbs == 2 and value)\n",
    "\n",
    "\n",
    "def count_nbs(grid, grid_size, is_periodic_boundary):\n",
    "    h, w = grid_size\n",
    "    counts = np.zeros(shape=grid_size, dtype='uint8')\n",
    "    \n",
    "    if is_periodic_boundary:\n",
    "        for y in range(h):\n",
    "            for x in range(w):\n",
    "                n_nbs = 0\n",
    "                for nb_y in range(y-1, y+2):\n",
    "                    nb_ym = nb_y % h\n",
    "                    for nb_x in range(x-1, x+2):\n",
    "                        nb_xm = nb_x % w\n",
    "                        n_nbs += grid[nb_ym, nb_xm]\n",
    "                        \n",
    "                counts[y, x] = n_nbs - grid[y, x]\n",
    "    \n",
    "    else:\n",
    "        for y in range(h):\n",
    "            for x in range(w):\n",
    "                n_nbs = 0\n",
    "                for nb_y in range(max(y-1, 0), min(y+2, h)):\n",
    "                    for nb_x in range(max(x-1, 0), min(x+2, w)):\n",
    "                        n_nbs += grid[nb_y, nb_x]\n",
    "\n",
    "                counts[y, x] = n_nbs - grid[y, x]\n",
    "            \n",
    "    return counts\n",
    "            \n",
    "            \n",
    "def calculate_new_gen(grid, counts, rule_set=None):\n",
    "    if rule_set is None:\n",
    "        return ((counts==3) | ((counts==2) & (grid==1))).astype('uint8')\n",
    "    \n",
    "    else:\n",
    "        new_grid = np.zeros(shape=grid.shape, dtype='uint8')\n",
    "        \n",
    "        for y in range(grid.shape[0]):\n",
    "            for x in range(grid.shape[1]):\n",
    "                new_grid[y, x] = rule_set[grid[y, x], counts[y, x]]\n",
    "\n",
    "        return new_grid\n",
    "\n",
    "\n",
    "def update_grid(grid, grid_size, is_periodic_boundary, rule_set=None):\n",
    "    counts = count_nbs(grid, grid_size, is_periodic_boundary)\n",
    "    new_gen = calculate_new_gen(grid, counts, rule_set=rule_set)\n",
    "    \n",
    "    return new_gen\n",
    "\n",
    "\n",
    "def run_simulation(initial_grid, n_generations, is_periodic_boundary, rule_set=None):\n",
    "    grid_size = initial_grid.shape\n",
    "    grid = initial_grid\n",
    "    history = [grid]\n",
    "    \n",
    "    for gen in range(1, n_generations):\n",
    "        grid = update_grid(grid, grid_size, is_periodic_boundary, rule_set=rule_set)\n",
    "        history.append(grid)\n",
    "        \n",
    "    return history"
   ]
  },
  {
   "cell_type": "code",
   "execution_count": null,
   "id": "68a55e91",
   "metadata": {},
   "outputs": [],
   "source": [
    "grid_size = 10, 10\n",
    "n_generations = 20\n",
    "initial_grid = create_grid(grid_size, rng)"
   ]
  },
  {
   "cell_type": "code",
   "execution_count": null,
   "id": "a39fa85b",
   "metadata": {},
   "outputs": [],
   "source": [
    "history_nonperiodic = run_simulation(initial_grid, n_generations, is_periodic_boundary=False)\n",
    "animation_nonperiodic = animate_simulation(\n",
    "    \"evolution-nonperiodic\", history_nonperiodic, framerate_medium, gif_writer_medium, save_file\n",
    ")"
   ]
  },
  {
   "cell_type": "code",
   "execution_count": null,
   "id": "3e20ecd3",
   "metadata": {},
   "outputs": [],
   "source": [
    "history_periodic = run_simulation(initial_grid, n_generations, is_periodic_boundary=True)\n",
    "animation_periodic = animate_simulation(\n",
    "    \"evolution-periodic\", history_periodic, framerate_medium, gif_writer_medium, save_file\n",
    ")"
   ]
  },
  {
   "cell_type": "markdown",
   "id": "e6803399",
   "metadata": {},
   "source": [
    "## Exercise 4.3"
   ]
  },
  {
   "cell_type": "code",
   "execution_count": null,
   "id": "1ec79027",
   "metadata": {
    "scrolled": false
   },
   "outputs": [],
   "source": [
    "def simulate_block():\n",
    "    grid = np.array([\n",
    "        [0, 0, 0, 0, 0, 0],\n",
    "        [0, 0, 0, 0, 0, 0],\n",
    "        [0, 0, 1, 1, 0, 0],\n",
    "        [0, 0, 1, 1, 0, 0],\n",
    "        [0, 0, 0, 0, 0, 0],\n",
    "        [0, 0, 0, 0, 0, 0],\n",
    "    ], dtype='uint8')\n",
    "    \n",
    "    return run_simulation(grid, 2, False)\n",
    "\n",
    "history_block = simulate_block()\n",
    "animation_block = animate_simulation(\n",
    "    \"animation_block\", history_block, framerate_medium, gif_writer_medium, save_file\n",
    ")"
   ]
  },
  {
   "cell_type": "code",
   "execution_count": null,
   "id": "1b6fb25d",
   "metadata": {
    "scrolled": true
   },
   "outputs": [],
   "source": [
    "def simulate_beehive():\n",
    "    grid = np.array([\n",
    "        [0, 0, 0, 0, 0, 0],\n",
    "        [0, 0, 1, 0, 0, 0],\n",
    "        [0, 1, 0, 1, 0, 0],\n",
    "        [0, 1, 0, 1, 0, 0],\n",
    "        [0, 0, 1, 0, 0, 0],\n",
    "        [0, 0, 0, 0, 0, 0],\n",
    "    ], dtype='uint8')\n",
    "    \n",
    "    return run_simulation(grid, 2, False)\n",
    "\n",
    "history_beehive = simulate_beehive()\n",
    "animation_beehive = animate_simulation(\n",
    "    \"animation_beehive\", history_beehive, framerate_medium, gif_writer_medium, save_file\n",
    ")"
   ]
  },
  {
   "cell_type": "code",
   "execution_count": null,
   "id": "6b360928",
   "metadata": {},
   "outputs": [],
   "source": [
    "def simulate_loaf():\n",
    "    grid = np.array([\n",
    "        [0, 0, 0, 0, 0, 0],\n",
    "        [0, 0, 1, 0, 0, 0],\n",
    "        [0, 1, 0, 1, 0, 0],\n",
    "        [0, 1, 0, 0, 1, 0],\n",
    "        [0, 0, 1, 1, 0, 0],\n",
    "        [0, 0, 0, 0, 0, 0],\n",
    "    ], dtype='uint8')\n",
    "    \n",
    "    return run_simulation(grid, 2, False)\n",
    "    \n",
    "history_loaf = simulate_loaf()\n",
    "animation_loaf = animate_simulation(\n",
    "    \"animation_loaf\", history_loaf, framerate_medium, gif_writer_medium, save_file\n",
    ")"
   ]
  },
  {
   "cell_type": "code",
   "execution_count": null,
   "id": "7167a46c",
   "metadata": {},
   "outputs": [],
   "source": [
    "def simulate_boat():\n",
    "    grid = np.array([\n",
    "        [0, 0, 0, 0, 0, 0],\n",
    "        [0, 0, 0, 0, 0, 0],\n",
    "        [0, 0, 1, 0, 0, 0],\n",
    "        [0, 1, 0, 1, 0, 0],\n",
    "        [0, 0, 1, 1, 0, 0],\n",
    "        [0, 0, 0, 0, 0, 0],\n",
    "    ], dtype='uint8')\n",
    "    \n",
    "    return run_simulation(grid, 2, False)\n",
    "    \n",
    "history_boat = simulate_boat()\n",
    "animation_boat = animate_simulation(\n",
    "    \"animation_boat\", history_boat, framerate_medium, gif_writer_medium, save_file\n",
    ")"
   ]
  },
  {
   "cell_type": "code",
   "execution_count": null,
   "id": "5275ce6b",
   "metadata": {},
   "outputs": [],
   "source": [
    "def simulate_tub():\n",
    "    grid = np.array([\n",
    "        [0, 0, 0, 0, 0, 0],\n",
    "        [0, 0, 0, 1, 0, 0],\n",
    "        [0, 0, 1, 0, 1, 0],\n",
    "        [0, 0, 0, 1, 0, 0],\n",
    "        [0, 0, 0, 0, 0, 0],\n",
    "        [0, 0, 0, 0, 0, 0],\n",
    "    ], dtype='uint8')\n",
    "    \n",
    "    return run_simulation(grid, 2, False)\n",
    "    \n",
    "history_tub = simulate_tub()\n",
    "animation_tub = animate_simulation(\n",
    "    \"animation_tub\", history_tub, framerate_medium, gif_writer_medium, save_file\n",
    ")"
   ]
  },
  {
   "cell_type": "markdown",
   "id": "cefd95a5",
   "metadata": {},
   "source": [
    "## Exercise 4.4"
   ]
  },
  {
   "cell_type": "code",
   "execution_count": null,
   "id": "410acd30",
   "metadata": {},
   "outputs": [],
   "source": [
    "def simulate_blinker():\n",
    "    grid = np.array([\n",
    "        [0, 0, 0, 0, 0, 0],\n",
    "        [0, 0, 0, 0, 0, 0],\n",
    "        [0, 0, 1, 0, 0, 0],\n",
    "        [0, 0, 1, 0, 0, 0],\n",
    "        [0, 0, 1, 0, 0, 0],\n",
    "        [0, 0, 0, 0, 0, 0],\n",
    "    ], dtype='uint8')\n",
    "    \n",
    "    return run_simulation(grid, 4, False)\n",
    "    \n",
    "history_blinker = simulate_blinker()\n",
    "animation_blinker = animate_simulation(\n",
    "    \"animation_blinker\", history_blinker, framerate_medium, gif_writer_medium, save_file\n",
    ")"
   ]
  },
  {
   "cell_type": "code",
   "execution_count": null,
   "id": "94c21041",
   "metadata": {},
   "outputs": [],
   "source": [
    "def simulate_toad():\n",
    "    grid = np.array([\n",
    "        [0, 0, 0, 0, 0, 0],\n",
    "        [0, 0, 0, 0, 0, 0],\n",
    "        [0, 0, 1, 1, 1, 0],\n",
    "        [0, 1, 1, 1, 0, 0],\n",
    "        [0, 0, 0, 0, 0, 0],\n",
    "        [0, 0, 0, 0, 0, 0],\n",
    "    ], dtype='uint8')\n",
    "    \n",
    "    return run_simulation(grid, 4, False)\n",
    "    \n",
    "history_toad = simulate_toad()\n",
    "animation_toad = animate_simulation(\n",
    "    \"animation_toad\", history_toad, framerate_medium, gif_writer_medium, save_file\n",
    ")"
   ]
  },
  {
   "cell_type": "code",
   "execution_count": null,
   "id": "dfb0c43d",
   "metadata": {},
   "outputs": [],
   "source": [
    "def simulate_beacon():\n",
    "    grid = np.array([\n",
    "        [0, 0, 0, 0, 0, 0],\n",
    "        [0, 1, 1, 0, 0, 0],\n",
    "        [0, 1, 0, 0, 0, 0],\n",
    "        [0, 0, 0, 0, 1, 0],\n",
    "        [0, 0, 0, 1, 1, 0],\n",
    "        [0, 0, 0, 0, 0, 0],\n",
    "    ], dtype='uint8')\n",
    "    \n",
    "    return run_simulation(grid, 4, False)\n",
    "    \n",
    "history_beacon = simulate_beacon()\n",
    "animation_beacon = animate_simulation(\n",
    "    \"animation_beacon\", history_beacon, framerate_medium, gif_writer_medium, save_file\n",
    ")"
   ]
  },
  {
   "cell_type": "markdown",
   "id": "04c94922",
   "metadata": {},
   "source": [
    "## Exercise 4.5"
   ]
  },
  {
   "cell_type": "code",
   "execution_count": null,
   "id": "e26e2bcb",
   "metadata": {},
   "outputs": [],
   "source": [
    "def simulate_glider_1():\n",
    "    grid = np.array([\n",
    "        [0, 0, 0, 0, 0, 0],\n",
    "        [0, 0, 0, 0, 0, 0],\n",
    "        [0, 0, 0, 0, 0, 0],\n",
    "        [0, 0, 0, 1, 1, 1],\n",
    "        [0, 0, 0, 1, 0, 0],\n",
    "        [0, 0, 0, 0, 1, 0],\n",
    "    ], dtype='uint8')\n",
    "    \n",
    "    return run_simulation(grid, 24, True)\n",
    "    \n",
    "history_glider_1 = simulate_glider_1()\n",
    "animation_glider_1 = animate_simulation(\n",
    "    \"animation_glider_1\", history_glider_1, framerate_medium, gif_writer_medium, save_file\n",
    ")"
   ]
  },
  {
   "cell_type": "code",
   "execution_count": null,
   "id": "00335ba5",
   "metadata": {},
   "outputs": [],
   "source": [
    "def simulate_glider_2():\n",
    "    grid = np.array([\n",
    "        [0, 0, 0, 0, 1, 0],\n",
    "        [0, 0, 0, 1, 0, 0],\n",
    "        [0, 0, 0, 1, 1, 1],\n",
    "        [0, 0, 0, 0, 0, 0],\n",
    "        [0, 0, 0, 0, 0, 0],\n",
    "        [0, 0, 0, 0, 0, 0],\n",
    "    ], dtype='uint8')\n",
    "    \n",
    "    return run_simulation(grid, 24, True)\n",
    "    \n",
    "history_glider_2 = simulate_glider_2()\n",
    "animation_glider_2 = animate_simulation(\n",
    "    \"animation_glider_2\", history_glider_2, framerate_medium, gif_writer_medium, save_file\n",
    ")"
   ]
  },
  {
   "cell_type": "code",
   "execution_count": null,
   "id": "9808987a",
   "metadata": {},
   "outputs": [],
   "source": [
    "def simulate_glider_3():\n",
    "    grid = np.array([\n",
    "        [0, 1, 0, 0, 0, 0],\n",
    "        [0, 0, 1, 0, 0, 0],\n",
    "        [1, 1, 1, 0, 0, 0],\n",
    "        [0, 0, 0, 0, 0, 0],\n",
    "        [0, 0, 0, 0, 0, 0],\n",
    "        [0, 0, 0, 0, 0, 0],\n",
    "    ], dtype='uint8')\n",
    "    \n",
    "    return run_simulation(grid, 24, True)\n",
    "    \n",
    "history_glider_3 = simulate_glider_3()\n",
    "animation_glider_3 = animate_simulation(\n",
    "    \"animation_glider_3\", history_glider_3, framerate_medium, gif_writer_medium, save_file\n",
    ")"
   ]
  },
  {
   "cell_type": "code",
   "execution_count": null,
   "id": "df40f664",
   "metadata": {},
   "outputs": [],
   "source": [
    "def simulate_glider_4():\n",
    "    grid = np.array([\n",
    "        [0, 0, 0, 0, 0, 0],\n",
    "        [0, 0, 0, 0, 0, 0],\n",
    "        [0, 0, 0, 0, 0, 0],\n",
    "        [1, 1, 1, 0, 0, 0],\n",
    "        [0, 0, 1, 0, 0, 0],\n",
    "        [0, 1, 0, 0, 0, 0],\n",
    "    ], dtype='uint8')\n",
    "    \n",
    "    return run_simulation(grid, 24, True)\n",
    "    \n",
    "history_glider_4 = simulate_glider_4()\n",
    "animation_glider_4 = animate_simulation(\n",
    "    \"animation_glider_4\", history_glider_4, framerate_medium, gif_writer_medium, save_file\n",
    ")"
   ]
  },
  {
   "cell_type": "markdown",
   "id": "7aaad1af",
   "metadata": {},
   "source": [
    "## Exercise 4.6"
   ]
  },
  {
   "cell_type": "code",
   "execution_count": null,
   "id": "d0c6cb1f",
   "metadata": {},
   "outputs": [],
   "source": [
    "def generate_config(rng, config_size):\n",
    "    config_h, config_w = config_size\n",
    "    inner_size = (config_h - 2, config_w - 2)\n",
    "    max_seed = inner_size[0] * inner_size[1]\n",
    "    \n",
    "    config_seed = rng.integers(1, 2**max_seed)\n",
    "    inner_config = decimal_to_binary_array(config_seed, width=max_seed).reshape(inner_size)\n",
    "\n",
    "    config = np.zeros(shape=config_size)\n",
    "    config[1:-1, 1:-1] = inner_config\n",
    "    \n",
    "    return config\n",
    "\n",
    "\n",
    "def find_pattern_in_grid(rng, config_size, max_gen, rule_set=None):\n",
    "    config = generate_config(rng, config_size)\n",
    "\n",
    "    grid_size = (3*config_size[0], 3*config_size[1]) \n",
    "    grid = np.zeros(shape=grid_size, dtype='uint8')\n",
    "    start_pos = config_size\n",
    "    grid[start_pos[0]:start_pos[0]+config_size[0],\n",
    "         start_pos[1]:start_pos[1]+config_size[1]] = config\n",
    "    \n",
    "    initial_grid = grid\n",
    "    \n",
    "    \n",
    "    for gen in range(1, max_gen):\n",
    "        grid = update_grid(grid, grid_size, False, rule_set)\n",
    "            \n",
    "        pos = find_config_shift(grid, config, config_size)\n",
    "        if pos:\n",
    "            shift = (pos[0]-start_pos[0], pos[1]-start_pos[1])\n",
    "            return gen, shift, config, initial_grid, grid\n",
    "    \n",
    "    return None\n",
    "\n",
    "\n",
    "def shift_config(grid, config_pos, config_size, shift):\n",
    "    y, x = config_pos\n",
    "    h, w = config_size\n",
    "    dy, dx = shift\n",
    "    config = grid[y:y+h, x:x+w]\n",
    "\n",
    "    grid[y:y+h, x:x+w] = 0\n",
    "    grid[y+dy:y+dy+h, x+dx:x+dx+w] = config\n",
    "\n",
    "    return grid\n",
    "\n",
    "\n",
    "def find_config_shift(grid, config, config_size): \n",
    "    h, w = config_size\n",
    "\n",
    "    for y in range(0, 2*h):\n",
    "        for x in range(0, 2*w):\n",
    "            if np.array_equal(grid[y:y+h, x:x+w], config):\n",
    "                return y, x\n",
    "\n",
    "    return None\n"
   ]
  },
  {
   "cell_type": "code",
   "execution_count": null,
   "id": "90f02942",
   "metadata": {},
   "outputs": [],
   "source": [
    "i_still = 0\n",
    "i_oscillator = 1\n",
    "i_glider = 2\n",
    "\n",
    "def find_patterns(rng, n_tries, config_size, max_gen, rule_set=None):\n",
    "    found_patterns = [[], [], []]\n",
    "    found_identifiers = set()\n",
    "    \n",
    "    n_counts = [0, 0, 0]\n",
    "    n_unique = [0, 0, 0]\n",
    "\n",
    "    print(\"Looking for patterns...\")\n",
    "    for t in range(n_tries):\n",
    "        if t%100 == 0:\n",
    "            print(f\"{t}/{n_tries}, counts={n_counts}, unique={n_unique}\")\n",
    "\n",
    "        found_info = find_pattern_in_grid(rng, config_size, max_gen, rule_set=rule_set)\n",
    "        \n",
    "        if found_info:\n",
    "            gen, shift, *_ = found_info\n",
    "            \n",
    "            if shift != (0, 0):\n",
    "                index = i_glider\n",
    "            elif gen == 1:\n",
    "                index = i_still\n",
    "            else:\n",
    "                index = i_oscillator\n",
    "                \n",
    "            n_counts[index] += 1\n",
    "            \n",
    "            identifier = (gen, shift)\n",
    "            if identifier in found_identifiers:\n",
    "                continue\n",
    "            else:\n",
    "                found_identifiers.add(identifier)\n",
    "\n",
    "            n_unique[index] += 1\n",
    "            found_patterns[index].append(found_info)\n",
    "\n",
    "    if len(found_patterns) == 0:\n",
    "        print(\"No pattern found\")\n",
    "    else:\n",
    "        print(f\"Finished! Found {len(found_patterns[i_still])} still-lifes, \"\n",
    "          f\"{len(found_patterns[i_oscillator])} oscillators, and \"\n",
    "          f\"{len(found_patterns[i_glider])} gliders.\")\n",
    "        \n",
    "        print()\n",
    "        print(f\"Probability of still life: {n_counts[0] / n_tries}\")\n",
    "        print(f\"Probability of oscillator: {n_counts[1] / n_tries}\")\n",
    "        print(f\"Probability of glider: {n_counts[2] / n_tries}\")\n",
    "        print()\n",
    "        print(f\"Probability of unique: {sum(n_unique) / n_tries}\")\n",
    "        print(f\"Probability of duplicate: {(sum(n_counts)-sum(n_unique))/n_tries}\")\n",
    "       \n",
    "    return found_patterns, n_counts, n_unique\n"
   ]
  },
  {
   "cell_type": "code",
   "execution_count": null,
   "id": "c6f9890b",
   "metadata": {},
   "outputs": [],
   "source": [
    "n_tries = 1000\n",
    "config_size = 5, 5\n",
    "max_gen = 8\n",
    "\n",
    "found_patterns, n_counts, n_unique = find_patterns(rng, n_tries, config_size, max_gen)"
   ]
  },
  {
   "cell_type": "code",
   "execution_count": null,
   "id": "ca1bc031",
   "metadata": {},
   "outputs": [],
   "source": [
    "def plot_found_patterns(found_patterns, max_of_each=None):\n",
    "    mixed_patterns = (\n",
    "        found_patterns[i_still][:max_of_each] +\n",
    "        found_patterns[i_oscillator][:max_of_each] +\n",
    "        found_patterns[i_glider][:max_of_each]\n",
    "    )\n",
    "    \n",
    "    if not len(mixed_patterns):\n",
    "        return\n",
    "\n",
    "    fig, axes = plt.subplots(len(mixed_patterns), 2, figsize=(7, 17))\n",
    "    fig.tight_layout()\n",
    "    \n",
    "    for i, (gen, shift, config, initial_grid, grid) in enumerate(mixed_patterns):    \n",
    "        if axes.shape == (2,):\n",
    "            ax1, ax2 = axes\n",
    "        else:\n",
    "            ax1, ax2 = axes[i, :]\n",
    "        ax1.imshow(initial_grid)\n",
    "        ax1.set_title(\"Initial (dx=0, dy=0, gen=0)\")\n",
    "        ax2.imshow(grid)\n",
    "        ax2.set_title(f\"Shifted (dx={shift[1]}, dy={shift[0]}, gen={gen})\")\n"
   ]
  },
  {
   "cell_type": "code",
   "execution_count": null,
   "id": "5a5baaea",
   "metadata": {},
   "outputs": [],
   "source": [
    "plot_found_patterns(found_patterns)"
   ]
  },
  {
   "cell_type": "markdown",
   "id": "7ec49f20",
   "metadata": {},
   "source": [
    "The function is quite ineffecient for finding new patterns since it samples randomly, which results in many duplicates.\n",
    "A better way could be to only use unique seeds. Create a list of random and unique seeds and use every single one from it."
   ]
  },
  {
   "cell_type": "markdown",
   "id": "c91cb194",
   "metadata": {},
   "source": [
    "## Exercise 4.7"
   ]
  },
  {
   "cell_type": "code",
   "execution_count": null,
   "id": "6422a456",
   "metadata": {},
   "outputs": [],
   "source": [
    "def generate_rule_set(rng, dead_seed, live_seed):\n",
    "    rule_set = np.zeros((2, 9))\n",
    "    \n",
    "    rule_set[0] = (decimal_to_binary_array(dead_seed, 9) \n",
    "                   if dead_seed\n",
    "                   else rng.integers(0, 2, (9,)))\n",
    "    \n",
    "    rule_set[1] = (decimal_to_binary_array(live_seed, 9)\n",
    "                  if live_seed\n",
    "                  else rng.integers(0, 2, (9,)))\n",
    "    \n",
    "    return rng.integers(0, 2, (2, 9))"
   ]
  },
  {
   "cell_type": "code",
   "execution_count": null,
   "id": "f5d75e38",
   "metadata": {},
   "outputs": [],
   "source": [
    "rule_set = generate_rule_set(rng, 300, 250)\n",
    "n_tries = 1000\n",
    "config_size = 5, 5\n",
    "max_gen = 8\n",
    "\n",
    "found_patterns, n_counts, n_unique = find_patterns(rng, n_tries, config_size, max_gen, rule_set=rule_set)\n",
    "plot_found_patterns(found_patterns)"
   ]
  },
  {
   "cell_type": "code",
   "execution_count": null,
   "id": "721e5107",
   "metadata": {},
   "outputs": [],
   "source": [
    "rule_set = generate_rule_set(rng, 259, 421)\n",
    "n_tries = 1000\n",
    "config_size = 5, 5\n",
    "max_gen = 8\n",
    "\n",
    "found_patterns, n_counts, n_unique = find_patterns(rng, n_tries, config_size, max_gen, rule_set=rule_set)\n",
    "plot_found_patterns(found_patterns)"
   ]
  },
  {
   "cell_type": "code",
   "execution_count": null,
   "id": "827127bc",
   "metadata": {},
   "outputs": [],
   "source": [
    "rule_set = generate_rule_set(rng, 132, 235)\n",
    "n_tries = 1000\n",
    "config_size = 5, 5\n",
    "max_gen = 8\n",
    "\n",
    "found_patterns, n_counts, n_unique = find_patterns(rng, n_tries, config_size, max_gen, rule_set=rule_set)\n",
    "plot_found_patterns(found_patterns)"
   ]
  },
  {
   "cell_type": "code",
   "execution_count": null,
   "id": "94810ad9",
   "metadata": {},
   "outputs": [],
   "source": [
    "rule_set = generate_rule_set(rng, 412, 23)\n",
    "n_tries = 1000\n",
    "config_size = 5, 5\n",
    "max_gen = 8\n",
    "\n",
    "found_patterns, n_counts, n_unique = find_patterns(rng, n_tries, config_size, max_gen, rule_set=rule_set)\n",
    "plot_found_patterns(found_patterns)"
   ]
  },
  {
   "cell_type": "markdown",
   "id": "66cc0572",
   "metadata": {},
   "source": [
    "## Exercise 4.8"
   ]
  },
  {
   "cell_type": "code",
   "execution_count": null,
   "id": "83f0d6f0",
   "metadata": {},
   "outputs": [],
   "source": [
    "def generate_grid_with_p(rng, grid_size, prob):\n",
    "    return (rng.random(grid_size) < prob).astype('uint8')\n"
   ]
  },
  {
   "cell_type": "code",
   "execution_count": null,
   "id": "4604264e",
   "metadata": {},
   "outputs": [],
   "source": [
    "def simulate_majority_rule_for_prob(rng, grid_size, prob, fig, axes):\n",
    "    rule_set = np.array([[0, 0, 0, 0, 0, 1, 1, 1, 1],\n",
    "                         [0, 0, 0, 0 ,1, 1, 1, 1, 1]], dtype='uint8')\n",
    "\n",
    "    grid = initial_grid = generate_grid_with_p(rng, grid_size, prob)\n",
    "    seen_states = set()\n",
    "\n",
    "    max_gen = 1000\n",
    "    final_gen = -1\n",
    "    for gen in range(1, max_gen):\n",
    "        if gen % 10 == 0:\n",
    "            print(f\"{gen}/{max_gen}\")\n",
    "\n",
    "        grid = update_grid(grid, grid.shape, False, rule_set=rule_set)\n",
    "        grid_hash = tuple(grid.flatten())\n",
    "\n",
    "        if grid_hash in seen_states:\n",
    "            print(f\"Steady state reached after {gen} iterations\")\n",
    "            final_gen = gen\n",
    "            break\n",
    "\n",
    "        seen_states.add(grid_hash)\n",
    "\n",
    "    if final_gen == -1:\n",
    "        print(\"No steady state found\")\n",
    "        fig = plt.figure()\n",
    "        plt.imshow(grid)\n",
    "        return\n",
    "        \n",
    "    ax1, ax2 = axes\n",
    "    #fig = plt.figure()\n",
    "    #fig.suptitle(f\"gen={final_gen}, p={prob}\")\n",
    "    ax1.imshow(initial_grid)\n",
    "    ax2.imshow(grid)\n",
    "    ax1.title.set_text(f\"prob={prob}\")\n",
    "    ax2.title.set_text(f\"gen={final_gen}\")"
   ]
  },
  {
   "cell_type": "code",
   "execution_count": null,
   "id": "5cda0527",
   "metadata": {},
   "outputs": [],
   "source": [
    "grid_size = (100, 100)\n",
    "probs = [0.3, 0.45, 0.5, 0.55, 0.6]\n",
    "fig, axes = plt.subplots(len(probs), 2, figsize=(4, 10))\n",
    "fig.tight_layout()\n",
    "\n",
    "for i, prob in enumerate(probs):\n",
    "    simulate_majority_rule_for_prob(rng, grid_size, prob, fig, axes[i])\n"
   ]
  },
  {
   "cell_type": "code",
   "execution_count": null,
   "id": "1c5b47ac",
   "metadata": {},
   "outputs": [],
   "source": []
  }
 ],
 "metadata": {
  "kernelspec": {
   "display_name": "Python 3 (ipykernel)",
   "language": "python",
   "name": "python3"
  },
  "language_info": {
   "codemirror_mode": {
    "name": "ipython",
    "version": 3
   },
   "file_extension": ".py",
   "mimetype": "text/x-python",
   "name": "python",
   "nbconvert_exporter": "python",
   "pygments_lexer": "ipython3",
   "version": "3.9.12"
  },
  "vscode": {
   "interpreter": {
    "hash": "53f10265b29eae0c75bb63924abf1eea9a79a8d3dfe9a1fff78ba6afc90c4aa9"
   }
  }
 },
 "nbformat": 4,
 "nbformat_minor": 5
}
