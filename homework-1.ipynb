{
 "cells": [
  {
   "cell_type": "markdown",
   "id": "7680f418",
   "metadata": {},
   "source": [
    "# Homework 1\n",
    "\n",
    "**Course**: FFR120 - Simulation of Complex Systems\n",
    "\n",
    "**Author**: Artur Gasparyan\n",
    "\n",
    "**Assignment**: Homework 1 - Option 4"
   ]
  },
  {
   "cell_type": "code",
   "execution_count": 7,
   "id": "fe454a98",
   "metadata": {},
   "outputs": [],
   "source": [
    "import numpy as np\n",
    "import matplotlib.pyplot as plt"
   ]
  },
  {
   "cell_type": "markdown",
   "id": "35b3339c",
   "metadata": {},
   "source": [
    "## Exercise 1.1 "
   ]
  },
  {
   "cell_type": "code",
   "execution_count": 16,
   "id": "a040f803",
   "metadata": {},
   "outputs": [],
   "source": [
    "def create_grid_1d(n_cells, n_generations, rng):\n",
    "    parent_generation = rng.integers(0, 2, size=(n_cells,))\n",
    "    grid = np.zeros(shape=(n_generations, n_cells), dtype='uint8')\n",
    "    grid[0, :] = parent_generation \n",
    "\n",
    "    return grid\n",
    "\n",
    "\n",
    "def decode_1d_rule(rule_number):\n",
    "    binary_numbers = [\n",
    "        (1, 1, 1), (1, 1, 0), (1, 0, 1), (1, 0, 0),\n",
    "        (0, 1, 1), (0, 1, 0), (0, 0, 1), (0, 0, 0)\n",
    "    ]\n",
    "\n",
    "    rule = dict()\n",
    "    num = rule_number\n",
    "    for i in range(8):\n",
    "        num, rem = divmod(num, 2)\n",
    "        rule[binary_numbers[-i-1]] = rem\n",
    "\n",
    "    return rule\n",
    "\n",
    "\n",
    "def update_grid_1d(grid, n_cells, rules, rng):\n",
    "    grid = np.roll(grid, 1, 0)\n",
    "    for i in range(1, n_cells-1):\n",
    "        pattern = grid[1, i-1:i+2]\n",
    "        grid[0, i] = rules[tuple(pattern)]\n",
    "\n",
    "    left_pattern = np.zeros(shape=(3,))\n",
    "    left_pattern[0] = rng.integers(0, 2, size=(1,))\n",
    "    left_pattern[1:] = grid[1, :2]\n",
    "\n",
    "    right_pattern = np.zeros(shape=(3,))\n",
    "    right_pattern[-1] = rng.integers(0, 2, size=(1,))\n",
    "    right_pattern[:2] = grid[1, -2:]\n",
    "\n",
    "    grid[0, 0] = rules[tuple(left_pattern)]\n",
    "    grid[0, -1] = rules[tuple(right_pattern)]\n",
    "\n",
    "    return grid\n"
   ]
  },
  {
   "cell_type": "code",
   "execution_count": 83,
   "id": "f826d7ba",
   "metadata": {},
   "outputs": [
    {
     "data": {
      "image/png": "[encoded data removed]",
      "text/plain": [
       "<Figure size 432x288 with 1 Axes>"
      ]
     },
     "metadata": {},
     "output_type": "display_data"
    }
   ],
   "source": [
    "\n",
    "def render_grid(grid, figure, axis):\n",
    "    global screen\n",
    "    axis.imshow(grid, interpolation='nearest', cmap=\"gray\")\n",
    "    screen.update(figure)\n",
    "    sleep(0.05)\n",
    "    plt.pause(0.005)\n",
    "\n",
    "    # TODO: Fix rendering\n"
   ]
  },
  {
   "cell_type": "code",
   "execution_count": 84,
   "id": "79a29008",
   "metadata": {},
   "outputs": [],
   "source": [
    "def run_simulation_1d(n_cells, n_generations, rule_nr, rng):\n",
    "    rules = decode_1d_rule(rule_number=rule_nr)\n",
    "    grid = create_grid_1d(n_cells, n_generations, rng)\n",
    "\n",
    "    for gen in range(n_generations):\n",
    "        grid = update_grid_1d(grid, n_cells, rules, rng)\n",
    "        render_grid(grid)\n"
   ]
  },
  {
   "cell_type": "code",
   "execution_count": 85,
   "id": "c8b91658",
   "metadata": {},
   "outputs": [
    {
     "data": {
      "image/png": "[encoded data removed]",
      "text/plain": [
       "<Figure size 432x288 with 1 Axes>"
      ]
     },
     "metadata": {
      "needs_background": "light"
     },
     "output_type": "display_data"
    }
   ],
   "source": [
    "rng = np.random.default_rng()\n",
    "rule_nr = 184\n",
    "n_cells = 80\n",
    "n_generations = 80\n",
    "\n",
    "run_simulation_1d(n_cells, n_generations, rule_nr, rng)"
   ]
  },
  {
   "cell_type": "code",
   "execution_count": null,
   "id": "f7936c6f",
   "metadata": {},
   "outputs": [],
   "source": []
  }
 ],
 "metadata": {
  "kernelspec": {
   "display_name": "Python 3.9.12 ('base')",
   "language": "python",
   "name": "python3"
  },
  "language_info": {
   "codemirror_mode": {
    "name": "ipython",
    "version": 3
   },
   "file_extension": ".py",
   "mimetype": "text/x-python",
   "name": "python",
   "nbconvert_exporter": "python",
   "pygments_lexer": "ipython3",
   "version": "3.9.12"
  },
  "vscode": {
   "interpreter": {
    "hash": "53f10265b29eae0c75bb63924abf1eea9a79a8d3dfe9a1fff78ba6afc90c4aa9"
   }
  }
 },
 "nbformat": 4,
 "nbformat_minor": 5
}
